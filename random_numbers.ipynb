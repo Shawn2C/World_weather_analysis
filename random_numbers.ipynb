{
 "cells": [
  {
   "cell_type": "code",
   "execution_count": 1,
   "id": "cb99e7a6",
   "metadata": {},
   "outputs": [],
   "source": [
    "#import random module\n",
    "import random"
   ]
  },
  {
   "cell_type": "code",
   "execution_count": 2,
   "id": "a65405f2",
   "metadata": {},
   "outputs": [
    {
     "data": {
      "text/plain": [
       "33"
      ]
     },
     "execution_count": 2,
     "metadata": {},
     "output_type": "execute_result"
    }
   ],
   "source": [
    "#returns with a random integer within the specified range\n",
    "random.randint(-90,90)"
   ]
  },
  {
   "cell_type": "code",
   "execution_count": 4,
   "id": "b0862b98",
   "metadata": {},
   "outputs": [
    {
     "data": {
      "text/plain": [
       "0.9005458911440506"
      ]
     },
     "execution_count": 4,
     "metadata": {},
     "output_type": "execute_result"
    }
   ],
   "source": [
    "#returns with a random number between 0 and 1\n",
    "random.random()"
   ]
  },
  {
   "cell_type": "code",
   "execution_count": 8,
   "id": "0c9e78c3",
   "metadata": {},
   "outputs": [
    {
     "data": {
      "text/plain": [
       "10.430961533355092"
      ]
     },
     "execution_count": 8,
     "metadata": {},
     "output_type": "execute_result"
    }
   ],
   "source": [
    "#test\n",
    "test1= random.randint(-90,90)+random.random()\n",
    "test1"
   ]
  },
  {
   "cell_type": "code",
   "execution_count": 17,
   "id": "9f7e3a54",
   "metadata": {},
   "outputs": [
    {
     "data": {
      "text/plain": [
       "[-44.639187818021725,\n",
       " 73.22256500023973,\n",
       " 1.6314835701727213,\n",
       " 72.54667378173791,\n",
       " 35.029054430591735,\n",
       " 10.995069384362457,\n",
       " -20.08217957550205,\n",
       " 72.33509387369044,\n",
       " -76.82574961383764,\n",
       " -40.641098993574914]"
      ]
     },
     "execution_count": 17,
     "metadata": {},
     "output_type": "execute_result"
    }
   ],
   "source": [
    "#test2\n",
    "x=1\n",
    "#initiate an empty list\n",
    "latitudes=[]\n",
    "#create a while loop that generate random latitudes\n",
    "while x < 11:\n",
    "    random_lat=random.randint(-90,89)+random.random()\n",
    "    latitudes.append(random_lat)\n",
    "#after random latitudes is added to the list, we add one to the variable x\n",
    "    x += 1\n",
    "    \n",
    "latitudes"
   ]
  },
  {
   "cell_type": "code",
   "execution_count": 27,
   "id": "f677f0c5",
   "metadata": {},
   "outputs": [
    {
     "data": {
      "text/plain": [
       "-10"
      ]
     },
     "execution_count": 27,
     "metadata": {},
     "output_type": "execute_result"
    }
   ],
   "source": [
    "#step must be set to an integer, it will generate increments of a given integer value\n",
    "random.randrange(-10,10,step=5)"
   ]
  },
  {
   "cell_type": "code",
   "execution_count": 29,
   "id": "a10b50fc",
   "metadata": {},
   "outputs": [
    {
     "data": {
      "text/plain": [
       "27.381266251115903"
      ]
     },
     "execution_count": 29,
     "metadata": {},
     "output_type": "execute_result"
    }
   ],
   "source": [
    "#will not generate an integer. Returns a decimal number within the range\n",
    "random.uniform(-90,90)"
   ]
  },
  {
   "cell_type": "code",
   "execution_count": null,
   "id": "0e548c45",
   "metadata": {},
   "outputs": [],
   "source": [
    "import numpy as np"
   ]
  },
  {
   "cell_type": "code",
   "execution_count": 1,
   "id": "ef08e128",
   "metadata": {},
   "outputs": [
    {
     "data": {
      "text/plain": [
       "'2.26.0'"
      ]
     },
     "execution_count": 1,
     "metadata": {},
     "output_type": "execute_result"
    }
   ],
   "source": [
    "import requests\n",
    "requests.__version__"
   ]
  },
  {
   "cell_type": "code",
   "execution_count": null,
   "id": "0421aa4f",
   "metadata": {},
   "outputs": [],
   "source": []
  }
 ],
 "metadata": {
  "kernelspec": {
   "display_name": "Python 3 (ipykernel)",
   "language": "python",
   "name": "python3"
  },
  "language_info": {
   "codemirror_mode": {
    "name": "ipython",
    "version": 3
   },
   "file_extension": ".py",
   "mimetype": "text/x-python",
   "name": "python",
   "nbconvert_exporter": "python",
   "pygments_lexer": "ipython3",
   "version": "3.7.11"
  }
 },
 "nbformat": 4,
 "nbformat_minor": 5
}
